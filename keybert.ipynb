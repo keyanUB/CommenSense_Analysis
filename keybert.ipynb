{
 "cells": [
  {
   "cell_type": "code",
   "execution_count": 1,
   "metadata": {},
   "outputs": [],
   "source": [
    "import pandas as pd\n",
    "import numpy as np\n",
    "from keybert import KeyBERT"
   ]
  },
  {
   "cell_type": "code",
   "execution_count": 2,
   "metadata": {},
   "outputs": [],
   "source": [
    "df = pd.read_csv('commen_sense.csv', encoding =\"utf-8\")"
   ]
  },
  {
   "cell_type": "code",
   "execution_count": 3,
   "metadata": {},
   "outputs": [],
   "source": [
    "from keybert import KeyBERT\n",
    "kw_model = KeyBERT(model='all-MiniLM-L6-v2')"
   ]
  },
  {
   "cell_type": "code",
   "execution_count": 11,
   "metadata": {},
   "outputs": [
    {
     "data": {
      "text/plain": [
       "\"I've been playing roblox since I was 9 roblox was slightly disgusting than with people and now its even more fucking disgusting as I'm older and especially with voice chat. on top of that people will get you banned for 0 reason and roblox doesn't respond at least this has happened for me. I even show them proof as if they would fucking care to look. the game has become trash in that aspect and games nowadays are getting more boring. It's really getting worthless to play this game anymore. I'm 18 now and a lot of people on roblox is not safe for children even when I was little but now its worse. Some people be talking shit like sex and etc without getting banned this is how bad it is in my view. I would like to rant more but this is some.\""
      ]
     },
     "execution_count": 11,
     "metadata": {},
     "output_type": "execute_result"
    }
   ],
   "source": [
    "df.Review[44]"
   ]
  },
  {
   "cell_type": "code",
   "execution_count": 13,
   "metadata": {},
   "outputs": [
    {
     "data": {
      "text/plain": [
       "[('banned reason roblox', 0.6328),\n",
       " ('roblox slightly disgusting', 0.6313),\n",
       " ('roblox safe', 0.5746),\n",
       " ('playing roblox', 0.5722),\n",
       " ('roblox safe children', 0.5681)]"
      ]
     },
     "execution_count": 13,
     "metadata": {},
     "output_type": "execute_result"
    }
   ],
   "source": [
    "kw_model.extract_keywords(df.Review[44], keyphrase_ngram_range=(1, 3), stop_words='english')"
   ]
  },
  {
   "cell_type": "code",
   "execution_count": null,
   "metadata": {},
   "outputs": [],
   "source": []
  },
  {
   "cell_type": "code",
   "execution_count": 26,
   "metadata": {},
   "outputs": [
    {
     "data": {
      "text/html": [
       "<pre style=\"white-space:pre;overflow-x:auto;line-height:normal;font-family:Menlo,'DejaVu Sans Mono',consolas,'Courier New',monospace\">ve been playing <span style=\"color: #000000; text-decoration-color: #000000; background-color: #ffff00\">roblox</span> since was <span style=\"color: #000000; text-decoration-color: #000000; background-color: #ffff00\">roblox</span> was slightly <span style=\"color: #000000; text-decoration-color: #000000; background-color: #ffff00\">disgusting</span> than with people and now its even more fucking \n",
       "<span style=\"color: #000000; text-decoration-color: #000000; background-color: #ffff00\">disgusting</span> as <span style=\"color: #000000; text-decoration-color: #000000; background-color: #ffff00\">older</span> and <span style=\"color: #000000; text-decoration-color: #000000; background-color: #ffff00\">especially</span> with voice <span style=\"color: #000000; text-decoration-color: #000000; background-color: #ffff00\">chat</span> on top of that people will get you <span style=\"color: #000000; text-decoration-color: #000000; background-color: #ffff00\">banned</span> for reason and <span style=\"color: #000000; text-decoration-color: #000000; background-color: #ffff00\">roblox</span> \n",
       "doesn respond at least this has happened for me even show them proof as if they would fucking <span style=\"color: #000000; text-decoration-color: #000000; background-color: #ffff00\">care</span> to look the <span style=\"color: #000000; text-decoration-color: #000000; background-color: #ffff00\">game</span>\n",
       "has become <span style=\"color: #000000; text-decoration-color: #000000; background-color: #ffff00\">trash</span> in that aspect and <span style=\"color: #000000; text-decoration-color: #000000; background-color: #ffff00\">games</span> <span style=\"color: #000000; text-decoration-color: #000000; background-color: #ffff00\">nowadays</span> are getting more boring It really getting worthless to <span style=\"color: #000000; text-decoration-color: #000000; background-color: #ffff00\">play</span> this\n",
       "<span style=\"color: #000000; text-decoration-color: #000000; background-color: #ffff00\">game</span> <span style=\"color: #000000; text-decoration-color: #000000; background-color: #ffff00\">anymore</span> 18 now and lot of people on <span style=\"color: #000000; text-decoration-color: #000000; background-color: #ffff00\">roblox</span> is not <span style=\"color: #000000; text-decoration-color: #000000; background-color: #ffff00\">safe</span> for <span style=\"color: #000000; text-decoration-color: #000000; background-color: #ffff00\">children</span> even when was little but now its <span style=\"color: #000000; text-decoration-color: #000000; background-color: #ffff00\">worse</span> \n",
       "Some people be <span style=\"color: #000000; text-decoration-color: #000000; background-color: #ffff00\">talking</span> shit <span style=\"color: #000000; text-decoration-color: #000000; background-color: #ffff00\">like</span> sex and etc without getting <span style=\"color: #000000; text-decoration-color: #000000; background-color: #ffff00\">banned</span> this is how <span style=\"color: #000000; text-decoration-color: #000000; background-color: #ffff00\">bad</span> it is in my view would <span style=\"color: #000000; text-decoration-color: #000000; background-color: #ffff00\">like</span> to \n",
       "<span style=\"color: #000000; text-decoration-color: #000000; background-color: #ffff00\">rant</span> more but this is some\n",
       "</pre>\n"
      ],
      "text/plain": [
       "ve been playing \u001b[30;48;2;255;255;0mroblox\u001b[0m since was \u001b[30;48;2;255;255;0mroblox\u001b[0m was slightly \u001b[30;48;2;255;255;0mdisgusting\u001b[0m than with people and now its even more fucking \n",
       "\u001b[30;48;2;255;255;0mdisgusting\u001b[0m as \u001b[30;48;2;255;255;0molder\u001b[0m and \u001b[30;48;2;255;255;0mespecially\u001b[0m with voice \u001b[30;48;2;255;255;0mchat\u001b[0m on top of that people will get you \u001b[30;48;2;255;255;0mbanned\u001b[0m for reason and \u001b[30;48;2;255;255;0mroblox\u001b[0m \n",
       "doesn respond at least this has happened for me even show them proof as if they would fucking \u001b[30;48;2;255;255;0mcare\u001b[0m to look the \u001b[30;48;2;255;255;0mgame\u001b[0m\n",
       "has become \u001b[30;48;2;255;255;0mtrash\u001b[0m in that aspect and \u001b[30;48;2;255;255;0mgames\u001b[0m \u001b[30;48;2;255;255;0mnowadays\u001b[0m are getting more boring It really getting worthless to \u001b[30;48;2;255;255;0mplay\u001b[0m this\n",
       "\u001b[30;48;2;255;255;0mgame\u001b[0m \u001b[30;48;2;255;255;0manymore\u001b[0m 18 now and lot of people on \u001b[30;48;2;255;255;0mroblox\u001b[0m is not \u001b[30;48;2;255;255;0msafe\u001b[0m for \u001b[30;48;2;255;255;0mchildren\u001b[0m even when was little but now its \u001b[30;48;2;255;255;0mworse\u001b[0m \n",
       "Some people be \u001b[30;48;2;255;255;0mtalking\u001b[0m shit \u001b[30;48;2;255;255;0mlike\u001b[0m sex and etc without getting \u001b[30;48;2;255;255;0mbanned\u001b[0m this is how \u001b[30;48;2;255;255;0mbad\u001b[0m it is in my view would \u001b[30;48;2;255;255;0mlike\u001b[0m to \n",
       "\u001b[30;48;2;255;255;0mrant\u001b[0m more but this is some\n"
      ]
     },
     "metadata": {},
     "output_type": "display_data"
    },
    {
     "data": {
      "text/plain": [
       "[('roblox', 0.5057),\n",
       " ('banned', 0.3426),\n",
       " ('talking', 0.2499),\n",
       " ('disgusting', 0.247),\n",
       " ('chat', 0.2194),\n",
       " ('safe', 0.2156),\n",
       " ('rant', 0.2073),\n",
       " ('like', 0.1993),\n",
       " ('trash', 0.1972),\n",
       " ('anymore', 0.1932),\n",
       " ('especially', 0.1892),\n",
       " ('older', 0.1886),\n",
       " ('care', 0.1867),\n",
       " ('worse', 0.1766),\n",
       " ('play', 0.1755),\n",
       " ('nowadays', 0.173),\n",
       " ('bad', 0.1666),\n",
       " ('game', 0.1664),\n",
       " ('games', 0.1638),\n",
       " ('children', 0.1633)]"
      ]
     },
     "execution_count": 26,
     "metadata": {},
     "output_type": "execute_result"
    }
   ],
   "source": [
    "kw_model.extract_keywords(df.Review[44], highlight=True, stop_words='english', top_n=20)"
   ]
  },
  {
   "cell_type": "code",
   "execution_count": null,
   "metadata": {},
   "outputs": [],
   "source": []
  }
 ],
 "metadata": {
  "kernelspec": {
   "display_name": "llama",
   "language": "python",
   "name": "python3"
  },
  "language_info": {
   "codemirror_mode": {
    "name": "ipython",
    "version": 3
   },
   "file_extension": ".py",
   "mimetype": "text/x-python",
   "name": "python",
   "nbconvert_exporter": "python",
   "pygments_lexer": "ipython3",
   "version": "3.9.16"
  },
  "orig_nbformat": 4
 },
 "nbformat": 4,
 "nbformat_minor": 2
}
